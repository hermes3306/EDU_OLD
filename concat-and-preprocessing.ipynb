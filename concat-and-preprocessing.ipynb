{
 "cells": [
  {
   "cell_type": "code",
   "execution_count": 2,
   "metadata": {},
   "outputs": [],
   "source": [
    "import pandas as pd\n",
    "import numpy as np"
   ]
  },
  {
   "cell_type": "code",
   "execution_count": 8,
   "metadata": {},
   "outputs": [
    {
     "name": "stdout",
     "output_type": "stream",
     "text": [
      " C 드라이브의 볼륨에는 이름이 없습니다.\n",
      " 볼륨 일련 번호: 3A05-3AA6\n",
      "\n",
      " C:\\Users\\kosta\\Desktop\\새 폴더\\data_science\\data\\seoul_bike 디렉터리\n",
      "\n",
      "2018-12-20  오전 11:13    <DIR>          .\n",
      "2018-12-20  오전 11:13    <DIR>          ..\n",
      "2018-12-17  오전 04:01           190,636 bike_rent_station.csv\n",
      "2018-12-18  오전 11:53        98,207,163 서울특별시 공공자전거 대여이력 정보_2018년_1분기1.csv\n",
      "2018-12-18  오전 11:53        84,976,795 서울특별시 공공자전거 대여이력 정보_2018년_2분기_1.csv\n",
      "2018-12-18  오전 11:52       119,418,810 서울특별시 공공자전거 대여이력 정보_2018년_2분기_2.csv\n",
      "2018-12-18  오전 11:53        71,135,025 서울특별시 공공자전거 대여이력 정보_2018년_2분기_3.csv\n",
      "2018-12-18  오전 11:52        73,556,846 서울특별시 공공자전거 대여이력 정보_2018년_2분기_4.csv\n",
      "               6개 파일         447,485,275 바이트\n",
      "               2개 디렉터리  916,850,827,264 바이트 남음\n"
     ]
    }
   ],
   "source": [
    "%ls data\\seoul_bike\\"
   ]
  },
  {
   "cell_type": "code",
   "execution_count": 3,
   "metadata": {},
   "outputs": [
    {
     "data": {
      "text/plain": [
       "'data\\\\seoul_bike\\\\'"
      ]
     },
     "execution_count": 3,
     "metadata": {},
     "output_type": "execute_result"
    }
   ],
   "source": [
    "folder_path = \"data\\\\seoul_bike\\\\\"\n",
    "folder_path"
   ]
  },
  {
   "cell_type": "code",
   "execution_count": 12,
   "metadata": {},
   "outputs": [
    {
     "data": {
      "text/plain": [
       "['서울특별시 공공자전거 대여이력 정보_2018년_1분기1.csv',\n",
       " '서울특별시 공공자전거 대여이력 정보_2018년_2분기_1.csv',\n",
       " '서울특별시 공공자전거 대여이력 정보_2018년_2분기_2.csv',\n",
       " '서울특별시 공공자전거 대여이력 정보_2018년_2분기_3.csv',\n",
       " '서울특별시 공공자전거 대여이력 정보_2018년_2분기_4.csv']"
      ]
     },
     "execution_count": 12,
     "metadata": {},
     "output_type": "execute_result"
    }
   ],
   "source": [
    "import os\n",
    "\n",
    "file_lists = []\n",
    "for root, dirs, files in os.walk(folder_path):  \n",
    "    for filename in files:\n",
    "        if filename.startswith('서울특별시 공공자전거 대여이력 정보_2018년') :\n",
    "            file_lists.append(filename)\n",
    "            \n",
    "file_lists           "
   ]
  },
  {
   "cell_type": "code",
   "execution_count": 13,
   "metadata": {},
   "outputs": [
    {
     "data": {
      "text/plain": [
       "(784734, 11)"
      ]
     },
     "execution_count": 13,
     "metadata": {},
     "output_type": "execute_result"
    }
   ],
   "source": [
    "df1_1 = pd.read_csv(folder_path+'서울특별시 공공자전거 대여이력 정보_2018년_1분기1.csv', encoding='cp949',engine='python')\n",
    "df1_1.shape"
   ]
  },
  {
   "cell_type": "code",
   "execution_count": 14,
   "metadata": {},
   "outputs": [
    {
     "data": {
      "text/html": [
       "<div>\n",
       "<style scoped>\n",
       "    .dataframe tbody tr th:only-of-type {\n",
       "        vertical-align: middle;\n",
       "    }\n",
       "\n",
       "    .dataframe tbody tr th {\n",
       "        vertical-align: top;\n",
       "    }\n",
       "\n",
       "    .dataframe thead th {\n",
       "        text-align: right;\n",
       "    }\n",
       "</style>\n",
       "<table border=\"1\" class=\"dataframe\">\n",
       "  <thead>\n",
       "    <tr style=\"text-align: right;\">\n",
       "      <th></th>\n",
       "      <th>'자전거번호'</th>\n",
       "      <th>'대여일시'</th>\n",
       "      <th>'대여대여소번호'</th>\n",
       "      <th>'대여대여소명'</th>\n",
       "      <th>'대여거치대'</th>\n",
       "      <th>'반납일시'</th>\n",
       "      <th>'반납대여소번호'</th>\n",
       "      <th>'반납대여소명'</th>\n",
       "      <th>'반납거치대'</th>\n",
       "      <th>'이용시간(분)'</th>\n",
       "      <th>'이용거리(M)'</th>\n",
       "    </tr>\n",
       "  </thead>\n",
       "  <tbody>\n",
       "    <tr>\n",
       "      <th>0</th>\n",
       "      <td>'SPB-02041'</td>\n",
       "      <td>'2018-01-01 00:00:10'</td>\n",
       "      <td>'227'</td>\n",
       "      <td>' 양평2나들목 보행통로 입구'</td>\n",
       "      <td>9</td>\n",
       "      <td>'2018-01-01 00:04:03'</td>\n",
       "      <td>'227'</td>\n",
       "      <td>' 양평2나들목 보행통로 입구'</td>\n",
       "      <td>9</td>\n",
       "      <td>3</td>\n",
       "      <td>50</td>\n",
       "    </tr>\n",
       "    <tr>\n",
       "      <th>1</th>\n",
       "      <td>'SPB-03796'</td>\n",
       "      <td>'2018-01-01 00:00:42'</td>\n",
       "      <td>'2219'</td>\n",
       "      <td>' 고속터미널역 8-1번, 8-2번 출구 사이'</td>\n",
       "      <td>15</td>\n",
       "      <td>'2018-01-01 00:25:41'</td>\n",
       "      <td>'3511'</td>\n",
       "      <td>' 응봉역 1번출구'</td>\n",
       "      <td>9</td>\n",
       "      <td>24</td>\n",
       "      <td>7670</td>\n",
       "    </tr>\n",
       "    <tr>\n",
       "      <th>2</th>\n",
       "      <td>'SPB-02402'</td>\n",
       "      <td>'2018-01-01 00:00:58'</td>\n",
       "      <td>'567'</td>\n",
       "      <td>' 성수역 2번출구 앞'</td>\n",
       "      <td>13</td>\n",
       "      <td>'2018-01-01 00:09:33'</td>\n",
       "      <td>'3506'</td>\n",
       "      <td>' 영동대교 북단'</td>\n",
       "      <td>2</td>\n",
       "      <td>8</td>\n",
       "      <td>1390</td>\n",
       "    </tr>\n",
       "    <tr>\n",
       "      <th>3</th>\n",
       "      <td>'SPB-01564'</td>\n",
       "      <td>'2018-01-01 00:01:02'</td>\n",
       "      <td>'568'</td>\n",
       "      <td>' 청계8가사거리 부근'</td>\n",
       "      <td>5</td>\n",
       "      <td>'2018-01-01 00:10:13'</td>\n",
       "      <td>'521'</td>\n",
       "      <td>' 왕십리역 11번 출구 앞'</td>\n",
       "      <td>9</td>\n",
       "      <td>8</td>\n",
       "      <td>1820</td>\n",
       "    </tr>\n",
       "    <tr>\n",
       "      <th>4</th>\n",
       "      <td>'SPB-05713'</td>\n",
       "      <td>'2018-01-01 00:01:03'</td>\n",
       "      <td>'361'</td>\n",
       "      <td>' 동묘앞역 1번출구 뒤'</td>\n",
       "      <td>4</td>\n",
       "      <td>'2018-01-01 00:06:18'</td>\n",
       "      <td>'383'</td>\n",
       "      <td>' 신당역 12번 출구 뒤'</td>\n",
       "      <td>8</td>\n",
       "      <td>4</td>\n",
       "      <td>850</td>\n",
       "    </tr>\n",
       "  </tbody>\n",
       "</table>\n",
       "</div>"
      ],
      "text/plain": [
       "       '자전거번호'                 '대여일시' '대여대여소번호'                    '대여대여소명'  \\\n",
       "0  'SPB-02041'  '2018-01-01 00:00:10'     '227'           ' 양평2나들목 보행통로 입구'   \n",
       "1  'SPB-03796'  '2018-01-01 00:00:42'    '2219'  ' 고속터미널역 8-1번, 8-2번 출구 사이'   \n",
       "2  'SPB-02402'  '2018-01-01 00:00:58'     '567'               ' 성수역 2번출구 앞'   \n",
       "3  'SPB-01564'  '2018-01-01 00:01:02'     '568'               ' 청계8가사거리 부근'   \n",
       "4  'SPB-05713'  '2018-01-01 00:01:03'     '361'              ' 동묘앞역 1번출구 뒤'   \n",
       "\n",
       "   '대여거치대'                 '반납일시' '반납대여소번호'           '반납대여소명'  '반납거치대'  \\\n",
       "0        9  '2018-01-01 00:04:03'     '227'  ' 양평2나들목 보행통로 입구'        9   \n",
       "1       15  '2018-01-01 00:25:41'    '3511'        ' 응봉역 1번출구'        9   \n",
       "2       13  '2018-01-01 00:09:33'    '3506'         ' 영동대교 북단'        2   \n",
       "3        5  '2018-01-01 00:10:13'     '521'   ' 왕십리역 11번 출구 앞'        9   \n",
       "4        4  '2018-01-01 00:06:18'     '383'    ' 신당역 12번 출구 뒤'        8   \n",
       "\n",
       "   '이용시간(분)'  '이용거리(M)'  \n",
       "0          3         50  \n",
       "1         24       7670  \n",
       "2          8       1390  \n",
       "3          8       1820  \n",
       "4          4        850  "
      ]
     },
     "execution_count": 14,
     "metadata": {},
     "output_type": "execute_result"
    }
   ],
   "source": [
    "df1_1.head()"
   ]
  },
  {
   "cell_type": "code",
   "execution_count": 18,
   "metadata": {},
   "outputs": [
    {
     "data": {
      "text/plain": [
       "(677878, 11)"
      ]
     },
     "execution_count": 18,
     "metadata": {},
     "output_type": "execute_result"
    }
   ],
   "source": [
    "df2_1 = pd.read_csv(folder_path+'서울특별시 공공자전거 대여이력 정보_2018년_2분기_1.csv', encoding='cp949', engine='python')\n",
    "df2_1.shape"
   ]
  },
  {
   "cell_type": "code",
   "execution_count": 19,
   "metadata": {},
   "outputs": [
    {
     "data": {
      "text/plain": [
       "(951446, 11)"
      ]
     },
     "execution_count": 19,
     "metadata": {},
     "output_type": "execute_result"
    }
   ],
   "source": [
    "df2_2 = pd.read_csv(folder_path+'서울특별시 공공자전거 대여이력 정보_2018년_2분기_2.csv', engine='python')\n",
    "df2_2.shape"
   ]
  },
  {
   "cell_type": "code",
   "execution_count": 9,
   "metadata": {},
   "outputs": [
    {
     "data": {
      "text/plain": [
       "(566859, 11)"
      ]
     },
     "execution_count": 9,
     "metadata": {},
     "output_type": "execute_result"
    }
   ],
   "source": [
    "df2_3 = pd.read_csv(folder_path+'서울특별시 공공자전거 대여이력 정보_2018년_2분기_3.csv', encoding='cp949', engine='python')\n",
    "df2_3.shape"
   ]
  },
  {
   "cell_type": "code",
   "execution_count": 21,
   "metadata": {},
   "outputs": [
    {
     "data": {
      "text/plain": [
       "(586304, 11)"
      ]
     },
     "execution_count": 21,
     "metadata": {},
     "output_type": "execute_result"
    }
   ],
   "source": [
    "df2_4 = pd.read_csv(folder_path+'서울특별시 공공자전거 대여이력 정보_2018년_2분기_4.csv', encoding='cp949', engine='python')\n",
    "df2_4.shape"
   ]
  },
  {
   "cell_type": "code",
   "execution_count": 22,
   "metadata": {},
   "outputs": [
    {
     "data": {
      "text/plain": [
       "(3567221, 11)"
      ]
     },
     "execution_count": 22,
     "metadata": {},
     "output_type": "execute_result"
    }
   ],
   "source": [
    "df = pd.concat([df1_1, df2_1, df2_2, df2_3, df2_4])\n",
    "df.shape"
   ]
  },
  {
   "cell_type": "code",
   "execution_count": 24,
   "metadata": {},
   "outputs": [],
   "source": [
    "# 컬럼에 있는 '를 제거한다.\n",
    "df.columns = df.columns.str.strip(\"'\")"
   ]
  },
  {
   "cell_type": "code",
   "execution_count": 25,
   "metadata": {},
   "outputs": [
    {
     "name": "stdout",
     "output_type": "stream",
     "text": [
      "Wall time: 13.6 s\n"
     ]
    }
   ],
   "source": [
    "# 불필요하게 '가 들어가 있다. 스트링 타입으로 되어있는 데이터에서 '을 제거하자.\n",
    "df.columns = df.columns.str.strip(\"'\")\n",
    "%time df = df.apply(lambda x: x.str.strip(\"'\") if x.dtype == np.dtype('object') else x)"
   ]
  },
  {
   "cell_type": "code",
   "execution_count": 27,
   "metadata": {},
   "outputs": [],
   "source": [
    "df.to_csv('seoul-bike-2018.csv', index=False)"
   ]
  },
  {
   "cell_type": "code",
   "execution_count": 15,
   "metadata": {
    "scrolled": true
   },
   "outputs": [
    {
     "name": "stdout",
     "output_type": "stream",
     "text": [
      "(3567221, 11)\n"
     ]
    },
    {
     "data": {
      "text/html": [
       "<div>\n",
       "<style scoped>\n",
       "    .dataframe tbody tr th:only-of-type {\n",
       "        vertical-align: middle;\n",
       "    }\n",
       "\n",
       "    .dataframe tbody tr th {\n",
       "        vertical-align: top;\n",
       "    }\n",
       "\n",
       "    .dataframe thead th {\n",
       "        text-align: right;\n",
       "    }\n",
       "</style>\n",
       "<table border=\"1\" class=\"dataframe\">\n",
       "  <thead>\n",
       "    <tr style=\"text-align: right;\">\n",
       "      <th></th>\n",
       "      <th>자전거번호</th>\n",
       "      <th>대여일시</th>\n",
       "      <th>대여대여소번호</th>\n",
       "      <th>대여대여소명</th>\n",
       "      <th>대여거치대</th>\n",
       "      <th>반납일시</th>\n",
       "      <th>반납대여소번호</th>\n",
       "      <th>반납대여소명</th>\n",
       "      <th>반납거치대</th>\n",
       "      <th>이용시간(분)</th>\n",
       "      <th>이용거리(M)</th>\n",
       "    </tr>\n",
       "  </thead>\n",
       "  <tbody>\n",
       "    <tr>\n",
       "      <th>0</th>\n",
       "      <td>SPB-02041</td>\n",
       "      <td>2018-01-01 00:00:10</td>\n",
       "      <td>227</td>\n",
       "      <td>양평2나들목 보행통로 입구</td>\n",
       "      <td>9</td>\n",
       "      <td>2018-01-01 00:04:03</td>\n",
       "      <td>227</td>\n",
       "      <td>양평2나들목 보행통로 입구</td>\n",
       "      <td>9</td>\n",
       "      <td>3</td>\n",
       "      <td>50</td>\n",
       "    </tr>\n",
       "    <tr>\n",
       "      <th>1</th>\n",
       "      <td>SPB-03796</td>\n",
       "      <td>2018-01-01 00:00:42</td>\n",
       "      <td>2219</td>\n",
       "      <td>고속터미널역 8-1번, 8-2번 출구 사이</td>\n",
       "      <td>15</td>\n",
       "      <td>2018-01-01 00:25:41</td>\n",
       "      <td>3511</td>\n",
       "      <td>응봉역 1번출구</td>\n",
       "      <td>9</td>\n",
       "      <td>24</td>\n",
       "      <td>7670</td>\n",
       "    </tr>\n",
       "    <tr>\n",
       "      <th>2</th>\n",
       "      <td>SPB-02402</td>\n",
       "      <td>2018-01-01 00:00:58</td>\n",
       "      <td>567</td>\n",
       "      <td>성수역 2번출구 앞</td>\n",
       "      <td>13</td>\n",
       "      <td>2018-01-01 00:09:33</td>\n",
       "      <td>3506</td>\n",
       "      <td>영동대교 북단</td>\n",
       "      <td>2</td>\n",
       "      <td>8</td>\n",
       "      <td>1390</td>\n",
       "    </tr>\n",
       "    <tr>\n",
       "      <th>3</th>\n",
       "      <td>SPB-01564</td>\n",
       "      <td>2018-01-01 00:01:02</td>\n",
       "      <td>568</td>\n",
       "      <td>청계8가사거리 부근</td>\n",
       "      <td>5</td>\n",
       "      <td>2018-01-01 00:10:13</td>\n",
       "      <td>521</td>\n",
       "      <td>왕십리역 11번 출구 앞</td>\n",
       "      <td>9</td>\n",
       "      <td>8</td>\n",
       "      <td>1820</td>\n",
       "    </tr>\n",
       "    <tr>\n",
       "      <th>4</th>\n",
       "      <td>SPB-05713</td>\n",
       "      <td>2018-01-01 00:01:03</td>\n",
       "      <td>361</td>\n",
       "      <td>동묘앞역 1번출구 뒤</td>\n",
       "      <td>4</td>\n",
       "      <td>2018-01-01 00:06:18</td>\n",
       "      <td>383</td>\n",
       "      <td>신당역 12번 출구 뒤</td>\n",
       "      <td>8</td>\n",
       "      <td>4</td>\n",
       "      <td>850</td>\n",
       "    </tr>\n",
       "  </tbody>\n",
       "</table>\n",
       "</div>"
      ],
      "text/plain": [
       "       자전거번호                 대여일시 대여대여소번호                    대여대여소명  대여거치대  \\\n",
       "0  SPB-02041  2018-01-01 00:00:10     227            양평2나들목 보행통로 입구      9   \n",
       "1  SPB-03796  2018-01-01 00:00:42    2219   고속터미널역 8-1번, 8-2번 출구 사이     15   \n",
       "2  SPB-02402  2018-01-01 00:00:58     567                성수역 2번출구 앞     13   \n",
       "3  SPB-01564  2018-01-01 00:01:02     568                청계8가사거리 부근      5   \n",
       "4  SPB-05713  2018-01-01 00:01:03     361               동묘앞역 1번출구 뒤      4   \n",
       "\n",
       "                  반납일시 반납대여소번호           반납대여소명  반납거치대  이용시간(분)  이용거리(M)  \n",
       "0  2018-01-01 00:04:03     227   양평2나들목 보행통로 입구      9        3       50  \n",
       "1  2018-01-01 00:25:41    3511         응봉역 1번출구      9       24     7670  \n",
       "2  2018-01-01 00:09:33    3506          영동대교 북단      2        8     1390  \n",
       "3  2018-01-01 00:10:13     521    왕십리역 11번 출구 앞      9        8     1820  \n",
       "4  2018-01-01 00:06:18     383     신당역 12번 출구 뒤      8        4      850  "
      ]
     },
     "execution_count": 15,
     "metadata": {},
     "output_type": "execute_result"
    }
   ],
   "source": [
    "df_2018 = pd.read_csv('data/seoul-bike-2018.csv')\n",
    "print(df_2018.shape)\n",
    "df_2018.head()"
   ]
  },
  {
   "cell_type": "code",
   "execution_count": 4,
   "metadata": {},
   "outputs": [],
   "source": [
    "df2_2 = pd.read_csv(folder_path+'서울특별시 공공자전거 대여이력 정보_2018년_2분기_2.csv', engine='python')"
   ]
  },
  {
   "cell_type": "code",
   "execution_count": 10,
   "metadata": {},
   "outputs": [
    {
     "name": "stdout",
     "output_type": "stream",
     "text": [
      "Wall time: 1.92 s\n"
     ]
    }
   ],
   "source": [
    "df = df2_3\n",
    "df.shape\n",
    "data = df2_3\n",
    "data\n",
    "\n",
    "# 불필요하게 '가 들어가 있다. 스트링 타입으로 되어있는 데이터에서 '을 제거하자.\n",
    "data.columns = data.columns.str.strip(\"'\")\n",
    "%time df = data.apply(lambda x: x.str.strip(\"'\") if x.dtype == np.dtype('object') else x)"
   ]
  },
  {
   "cell_type": "code",
   "execution_count": null,
   "metadata": {},
   "outputs": [],
   "source": []
  },
  {
   "cell_type": "code",
   "execution_count": 11,
   "metadata": {},
   "outputs": [
    {
     "data": {
      "text/plain": [
       "(566859, 11)"
      ]
     },
     "execution_count": 11,
     "metadata": {},
     "output_type": "execute_result"
    }
   ],
   "source": [
    "df.shape"
   ]
  },
  {
   "cell_type": "code",
   "execution_count": 35,
   "metadata": {},
   "outputs": [],
   "source": [
    "#warning 문구 출력 되지 않도록 하기\n",
    "import warnings as warn\n"
   ]
  },
  {
   "cell_type": "code",
   "execution_count": 37,
   "metadata": {},
   "outputs": [],
   "source": [
    "warn.simplefilter(action='ignore',category=FutureWarning)\n"
   ]
  },
  {
   "cell_type": "code",
   "execution_count": 39,
   "metadata": {},
   "outputs": [
    {
     "name": "stdout",
     "output_type": "stream",
     "text": [
      "Requirement already satisfied: plotnine in c:\\users\\kosta\\anaconda3\\lib\\site-packages (0.5.1)\n",
      "Requirement already satisfied: numpy in c:\\users\\kosta\\anaconda3\\lib\\site-packages (from plotnine) (1.14.3)\n",
      "Requirement already satisfied: pandas>=0.23.4 in c:\\users\\kosta\\anaconda3\\lib\\site-packages (from plotnine) (0.23.4)\n",
      "Requirement already satisfied: patsy>=0.4.1 in c:\\users\\kosta\\anaconda3\\lib\\site-packages (from plotnine) (0.5.0)\n",
      "Requirement already satisfied: descartes>=1.1.0 in c:\\users\\kosta\\anaconda3\\lib\\site-packages (from plotnine) (1.1.0)\n",
      "Requirement already satisfied: statsmodels>=0.8.0 in c:\\users\\kosta\\anaconda3\\lib\\site-packages (from plotnine) (0.9.0)\n",
      "Requirement already satisfied: mizani>=0.5.2 in c:\\users\\kosta\\anaconda3\\lib\\site-packages (from plotnine) (0.5.2)\n",
      "Requirement already satisfied: scipy>=1.0.0 in c:\\users\\kosta\\anaconda3\\lib\\site-packages (from plotnine) (1.1.0)\n",
      "Requirement already satisfied: matplotlib>=3.0.0 in c:\\users\\kosta\\anaconda3\\lib\\site-packages (from plotnine) (3.0.2)\n",
      "Requirement already satisfied: pytz>=2011k in c:\\users\\kosta\\anaconda3\\lib\\site-packages (from pandas>=0.23.4->plotnine) (2018.4)\n",
      "Requirement already satisfied: python-dateutil>=2.5.0 in c:\\users\\kosta\\anaconda3\\lib\\site-packages (from pandas>=0.23.4->plotnine) (2.7.3)\n",
      "Requirement already satisfied: six in c:\\users\\kosta\\anaconda3\\lib\\site-packages (from patsy>=0.4.1->plotnine) (1.11.0)\n",
      "Requirement already satisfied: palettable in c:\\users\\kosta\\anaconda3\\lib\\site-packages (from mizani>=0.5.2->plotnine) (3.1.1)\n",
      "Requirement already satisfied: kiwisolver>=1.0.1 in c:\\users\\kosta\\anaconda3\\lib\\site-packages (from matplotlib>=3.0.0->plotnine) (1.0.1)\n",
      "Requirement already satisfied: pyparsing!=2.0.4,!=2.1.2,!=2.1.6,>=2.0.1 in c:\\users\\kosta\\anaconda3\\lib\\site-packages (from matplotlib>=3.0.0->plotnine) (2.2.0)\n",
      "Requirement already satisfied: cycler>=0.10 in c:\\users\\kosta\\anaconda3\\lib\\site-packages (from matplotlib>=3.0.0->plotnine) (0.10.0)\n",
      "Requirement already satisfied: setuptools in c:\\users\\kosta\\anaconda3\\lib\\site-packages (from kiwisolver>=1.0.1->matplotlib>=3.0.0->plotnine) (39.1.0)\n"
     ]
    }
   ],
   "source": [
    "#plotline  설치\n",
    "!pip install plotnine"
   ]
  },
  {
   "cell_type": "code",
   "execution_count": 43,
   "metadata": {},
   "outputs": [
    {
     "name": "stdout",
     "output_type": "stream",
     "text": [
      "Name: plotnine\n",
      "Version: 0.5.1\n",
      "Summary: A grammar of graphics for python\n",
      "Home-page: https://github.com/has2k1/plotnine\n",
      "Author: None\n",
      "Author-email: None\n",
      "License: GPL-2\n",
      "Location: c:\\users\\kosta\\anaconda3\\lib\\site-packages\n",
      "Requires: scipy, mizani, matplotlib, numpy, pandas, descartes, statsmodels, patsy\n",
      "Required-by: \n"
     ]
    }
   ],
   "source": [
    "!pip show plotnine\n",
    "#설치할때 public으로 설정하면 cmd참도 관리자권한으로 실행함\n"
   ]
  },
  {
   "cell_type": "code",
   "execution_count": 1,
   "metadata": {},
   "outputs": [],
   "source": [
    "import pandas as pd\n",
    "import pandas as pd\n",
    "import numpy as np\n",
    "import matplotlib\n",
    "from matplotlib import *\n",
    "from plotnine import *"
   ]
  },
  {
   "cell_type": "code",
   "execution_count": 12,
   "metadata": {},
   "outputs": [
    {
     "name": "stdout",
     "output_type": "stream",
     "text": [
      "<class 'pandas.core.frame.DataFrame'>\n",
      "RangeIndex: 566859 entries, 0 to 566858\n",
      "Data columns (total 11 columns):\n",
      "자전거번호      566859 non-null object\n",
      "대여일시       566859 non-null object\n",
      "대여대여소번호    566859 non-null object\n",
      "대여대여소명     566859 non-null object\n",
      "대여거치대      566859 non-null int64\n",
      "반납일시       566859 non-null object\n",
      "반납대여소번호    566859 non-null object\n",
      "반납대여소명     566859 non-null object\n",
      "반납거치대      566859 non-null int64\n",
      "이용시간(분)    566859 non-null int64\n",
      "이용거리(M)    566859 non-null int64\n",
      "dtypes: int64(4), object(7)\n",
      "memory usage: 47.6+ MB\n"
     ]
    }
   ],
   "source": [
    "df.info()"
   ]
  },
  {
   "cell_type": "code",
   "execution_count": 16,
   "metadata": {},
   "outputs": [
    {
     "data": {
      "text/html": [
       "<div>\n",
       "<style scoped>\n",
       "    .dataframe tbody tr th:only-of-type {\n",
       "        vertical-align: middle;\n",
       "    }\n",
       "\n",
       "    .dataframe tbody tr th {\n",
       "        vertical-align: top;\n",
       "    }\n",
       "\n",
       "    .dataframe thead th {\n",
       "        text-align: right;\n",
       "    }\n",
       "</style>\n",
       "<table border=\"1\" class=\"dataframe\">\n",
       "  <thead>\n",
       "    <tr style=\"text-align: right;\">\n",
       "      <th></th>\n",
       "      <th>대여거치대</th>\n",
       "      <th>반납거치대</th>\n",
       "      <th>이용시간(분)</th>\n",
       "      <th>이용거리(M)</th>\n",
       "    </tr>\n",
       "  </thead>\n",
       "  <tbody>\n",
       "    <tr>\n",
       "      <th>count</th>\n",
       "      <td>566859.000000</td>\n",
       "      <td>566859.000000</td>\n",
       "      <td>566859.000000</td>\n",
       "      <td>566859.000000</td>\n",
       "    </tr>\n",
       "    <tr>\n",
       "      <th>mean</th>\n",
       "      <td>7.046213</td>\n",
       "      <td>6.996652</td>\n",
       "      <td>30.152867</td>\n",
       "      <td>4720.542992</td>\n",
       "    </tr>\n",
       "    <tr>\n",
       "      <th>std</th>\n",
       "      <td>5.258131</td>\n",
       "      <td>5.241087</td>\n",
       "      <td>30.998826</td>\n",
       "      <td>7722.005168</td>\n",
       "    </tr>\n",
       "    <tr>\n",
       "      <th>min</th>\n",
       "      <td>1.000000</td>\n",
       "      <td>1.000000</td>\n",
       "      <td>2.000000</td>\n",
       "      <td>0.000000</td>\n",
       "    </tr>\n",
       "    <tr>\n",
       "      <th>25%</th>\n",
       "      <td>3.000000</td>\n",
       "      <td>3.000000</td>\n",
       "      <td>9.000000</td>\n",
       "      <td>1340.000000</td>\n",
       "    </tr>\n",
       "    <tr>\n",
       "      <th>50%</th>\n",
       "      <td>6.000000</td>\n",
       "      <td>6.000000</td>\n",
       "      <td>19.000000</td>\n",
       "      <td>2600.000000</td>\n",
       "    </tr>\n",
       "    <tr>\n",
       "      <th>75%</th>\n",
       "      <td>10.000000</td>\n",
       "      <td>10.000000</td>\n",
       "      <td>42.000000</td>\n",
       "      <td>5420.000000</td>\n",
       "    </tr>\n",
       "    <tr>\n",
       "      <th>max</th>\n",
       "      <td>40.000000</td>\n",
       "      <td>40.000000</td>\n",
       "      <td>1468.000000</td>\n",
       "      <td>255910.000000</td>\n",
       "    </tr>\n",
       "  </tbody>\n",
       "</table>\n",
       "</div>"
      ],
      "text/plain": [
       "               대여거치대          반납거치대        이용시간(분)        이용거리(M)\n",
       "count  566859.000000  566859.000000  566859.000000  566859.000000\n",
       "mean        7.046213       6.996652      30.152867    4720.542992\n",
       "std         5.258131       5.241087      30.998826    7722.005168\n",
       "min         1.000000       1.000000       2.000000       0.000000\n",
       "25%         3.000000       3.000000       9.000000    1340.000000\n",
       "50%         6.000000       6.000000      19.000000    2600.000000\n",
       "75%        10.000000      10.000000      42.000000    5420.000000\n",
       "max        40.000000      40.000000    1468.000000  255910.000000"
      ]
     },
     "execution_count": 16,
     "metadata": {},
     "output_type": "execute_result"
    }
   ],
   "source": [
    "df.describe()"
   ]
  },
  {
   "cell_type": "code",
   "execution_count": 19,
   "metadata": {},
   "outputs": [
    {
     "data": {
      "text/html": [
       "<div>\n",
       "<style scoped>\n",
       "    .dataframe tbody tr th:only-of-type {\n",
       "        vertical-align: middle;\n",
       "    }\n",
       "\n",
       "    .dataframe tbody tr th {\n",
       "        vertical-align: top;\n",
       "    }\n",
       "\n",
       "    .dataframe thead th {\n",
       "        text-align: right;\n",
       "    }\n",
       "</style>\n",
       "<table border=\"1\" class=\"dataframe\">\n",
       "  <thead>\n",
       "    <tr style=\"text-align: right;\">\n",
       "      <th></th>\n",
       "      <th>자전거번호</th>\n",
       "      <th>대여일시</th>\n",
       "      <th>대여대여소번호</th>\n",
       "      <th>대여대여소명</th>\n",
       "      <th>반납일시</th>\n",
       "      <th>반납대여소번호</th>\n",
       "      <th>반납대여소명</th>\n",
       "    </tr>\n",
       "  </thead>\n",
       "  <tbody>\n",
       "    <tr>\n",
       "      <th>count</th>\n",
       "      <td>566859</td>\n",
       "      <td>566859</td>\n",
       "      <td>566859</td>\n",
       "      <td>566859</td>\n",
       "      <td>566859</td>\n",
       "      <td>566859</td>\n",
       "      <td>566859</td>\n",
       "    </tr>\n",
       "    <tr>\n",
       "      <th>unique</th>\n",
       "      <td>12375</td>\n",
       "      <td>415920</td>\n",
       "      <td>1269</td>\n",
       "      <td>1269</td>\n",
       "      <td>417029</td>\n",
       "      <td>1270</td>\n",
       "      <td>1270</td>\n",
       "    </tr>\n",
       "    <tr>\n",
       "      <th>top</th>\n",
       "      <td>SPB-10702</td>\n",
       "      <td>2018-06-15 18:45:43</td>\n",
       "      <td>207</td>\n",
       "      <td>여의나루역 1번출구 앞</td>\n",
       "      <td>2018-06-15 18:47:37</td>\n",
       "      <td>502</td>\n",
       "      <td>뚝섬유원지역 1번출구 앞</td>\n",
       "    </tr>\n",
       "    <tr>\n",
       "      <th>freq</th>\n",
       "      <td>127</td>\n",
       "      <td>48</td>\n",
       "      <td>4217</td>\n",
       "      <td>4217</td>\n",
       "      <td>22</td>\n",
       "      <td>4227</td>\n",
       "      <td>4227</td>\n",
       "    </tr>\n",
       "  </tbody>\n",
       "</table>\n",
       "</div>"
      ],
      "text/plain": [
       "            자전거번호                 대여일시 대여대여소번호         대여대여소명  \\\n",
       "count      566859               566859  566859         566859   \n",
       "unique      12375               415920    1269           1269   \n",
       "top     SPB-10702  2018-06-15 18:45:43     207   여의나루역 1번출구 앞   \n",
       "freq          127                   48    4217           4217   \n",
       "\n",
       "                       반납일시 반납대여소번호          반납대여소명  \n",
       "count                566859  566859          566859  \n",
       "unique               417029    1270            1270  \n",
       "top     2018-06-15 18:47:37     502   뚝섬유원지역 1번출구 앞  \n",
       "freq                     22    4227            4227  "
      ]
     },
     "execution_count": 19,
     "metadata": {},
     "output_type": "execute_result"
    }
   ],
   "source": [
    "df.describe(include=np.object)"
   ]
  },
  {
   "cell_type": "code",
   "execution_count": 24,
   "metadata": {},
   "outputs": [
    {
     "data": {
      "text/html": [
       "<div>\n",
       "<style scoped>\n",
       "    .dataframe tbody tr th:only-of-type {\n",
       "        vertical-align: middle;\n",
       "    }\n",
       "\n",
       "    .dataframe tbody tr th {\n",
       "        vertical-align: top;\n",
       "    }\n",
       "\n",
       "    .dataframe thead th {\n",
       "        text-align: right;\n",
       "    }\n",
       "</style>\n",
       "<table border=\"1\" class=\"dataframe\">\n",
       "  <thead>\n",
       "    <tr style=\"text-align: right;\">\n",
       "      <th></th>\n",
       "      <th>자전거번호</th>\n",
       "      <th>대여일시</th>\n",
       "      <th>대여대여소번호</th>\n",
       "      <th>대여대여소명</th>\n",
       "      <th>대여거치대</th>\n",
       "      <th>반납일시</th>\n",
       "      <th>반납대여소번호</th>\n",
       "      <th>반납대여소명</th>\n",
       "      <th>반납거치대</th>\n",
       "      <th>이용시간(분)</th>\n",
       "      <th>이용거리(M)</th>\n",
       "    </tr>\n",
       "  </thead>\n",
       "  <tbody>\n",
       "    <tr>\n",
       "      <th>566857</th>\n",
       "      <td>SPB-09282</td>\n",
       "      <td>2018-06-15 23:59:55</td>\n",
       "      <td>1703</td>\n",
       "      <td>도봉산광역환승센터앞</td>\n",
       "      <td>10</td>\n",
       "      <td>2018-06-16 00:53:15</td>\n",
       "      <td>650</td>\n",
       "      <td>중랑교사거리</td>\n",
       "      <td>6</td>\n",
       "      <td>50</td>\n",
       "      <td>12160</td>\n",
       "    </tr>\n",
       "    <tr>\n",
       "      <th>566858</th>\n",
       "      <td>SPB-06087</td>\n",
       "      <td>2018-06-15 23:59:59</td>\n",
       "      <td>818</td>\n",
       "      <td>숙명여대 입구 교차로</td>\n",
       "      <td>2</td>\n",
       "      <td>2018-06-16 00:06:35</td>\n",
       "      <td>820</td>\n",
       "      <td>청파동입구 교차로</td>\n",
       "      <td>6</td>\n",
       "      <td>6</td>\n",
       "      <td>710</td>\n",
       "    </tr>\n",
       "  </tbody>\n",
       "</table>\n",
       "</div>"
      ],
      "text/plain": [
       "            자전거번호                 대여일시 대여대여소번호        대여대여소명  대여거치대  \\\n",
       "566857  SPB-09282  2018-06-15 23:59:55    1703   도봉산광역환승센터앞      10   \n",
       "566858  SPB-06087  2018-06-15 23:59:59     818   숙명여대 입구 교차로      2   \n",
       "\n",
       "                       반납일시 반납대여소번호      반납대여소명  반납거치대  이용시간(분)  이용거리(M)  \n",
       "566857  2018-06-16 00:53:15     650      중랑교사거리      6       50    12160  \n",
       "566858  2018-06-16 00:06:35     820   청파동입구 교차로      6        6      710  "
      ]
     },
     "execution_count": 24,
     "metadata": {},
     "output_type": "execute_result"
    }
   ],
   "source": [
    "\n",
    "df.tail(2)"
   ]
  },
  {
   "cell_type": "code",
   "execution_count": 29,
   "metadata": {},
   "outputs": [
    {
     "data": {
      "text/plain": [
       "자전거번호      0\n",
       "대여일시       0\n",
       "대여대여소번호    0\n",
       "대여대여소명     0\n",
       "대여거치대      0\n",
       "반납일시       0\n",
       "반납대여소번호    0\n",
       "반납대여소명     0\n",
       "반납거치대      0\n",
       "이용시간(분)    0\n",
       "이용거리(M)    0\n",
       "dtype: int64"
      ]
     },
     "execution_count": 29,
     "metadata": {},
     "output_type": "execute_result"
    }
   ],
   "source": [
    "#결측치 (null data)  확인\n",
    "df.isnull().sum()"
   ]
  },
  {
   "cell_type": "code",
   "execution_count": 33,
   "metadata": {},
   "outputs": [
    {
     "name": "stdout",
     "output_type": "stream",
     "text": [
      "대여대여소갯수 1269\n",
      "반납대여소갯수 1270\n"
     ]
    }
   ],
   "source": [
    "print ('대여대여소갯수', df['대여대여소번호'].unique().shape[0] )\n",
    "print ('반납대여소갯수', df['반납대여소번호'].unique().shape[0] )"
   ]
  },
  {
   "cell_type": "code",
   "execution_count": 36,
   "metadata": {},
   "outputs": [
    {
     "data": {
      "text/plain": [
       " 여의나루역 1번출구 앞               4217\n",
       " 뚝섬유원지역 1번출구 앞              3589\n",
       " 홍대입구역 2번출구 앞               2998\n",
       " 롯데월드타워(잠실역2번출구 쪽)          2691\n",
       " 봉림교 교통섬                    2638\n",
       " 고속터미널역 8-1번, 8-2번 출구 사이    2508\n",
       " 마포구민체육센터 앞                 2342\n",
       " 건국대학교 (입학정보관)              1969\n",
       " 안암로터리 버스정류장 앞              1895\n",
       " 신도림역 1번 출구 앞               1859\n",
       "Name: 대여대여소명, dtype: int64"
      ]
     },
     "execution_count": 36,
     "metadata": {},
     "output_type": "execute_result"
    }
   ],
   "source": [
    "df['대여대여소명'].value_counts().head(10)\n"
   ]
  },
  {
   "cell_type": "code",
   "execution_count": 37,
   "metadata": {},
   "outputs": [
    {
     "data": {
      "text/plain": [
       " 뚝섬유원지역 1번출구 앞              4227\n",
       " 여의나루역 1번출구 앞               4040\n",
       " 홍대입구역 2번출구 앞               3708\n",
       " 롯데월드타워(잠실역2번출구 쪽)          2715\n",
       " 봉림교 교통섬                    2712\n",
       " 마포구민체육센터 앞                 2660\n",
       " 고속터미널역 8-1번, 8-2번 출구 사이    2532\n",
       " 안암로터리 버스정류장 앞              2178\n",
       " CJ 드림시티                    2107\n",
       " 건국대학교 (입학정보관)              2031\n",
       "Name: 반납대여소명, dtype: int64"
      ]
     },
     "execution_count": 37,
     "metadata": {},
     "output_type": "execute_result"
    }
   ],
   "source": [
    "df['반납대여소명'].value_counts().head(10)"
   ]
  },
  {
   "cell_type": "code",
   "execution_count": 56,
   "metadata": {},
   "outputs": [
    {
     "data": {
      "text/html": [
       "<div>\n",
       "<style scoped>\n",
       "    .dataframe tbody tr th:only-of-type {\n",
       "        vertical-align: middle;\n",
       "    }\n",
       "\n",
       "    .dataframe tbody tr th {\n",
       "        vertical-align: top;\n",
       "    }\n",
       "\n",
       "    .dataframe thead th {\n",
       "        text-align: right;\n",
       "    }\n",
       "</style>\n",
       "<table border=\"1\" class=\"dataframe\">\n",
       "  <thead>\n",
       "    <tr style=\"text-align: right;\">\n",
       "      <th></th>\n",
       "      <th>대여대여소명</th>\n",
       "      <th>이용거리(M)</th>\n",
       "    </tr>\n",
       "  </thead>\n",
       "  <tbody>\n",
       "    <tr>\n",
       "      <th>0</th>\n",
       "      <td>상암센터 정비실</td>\n",
       "      <td>1973.333333</td>\n",
       "    </tr>\n",
       "    <tr>\n",
       "      <th>1</th>\n",
       "      <td>신내역 4번출구</td>\n",
       "      <td>1996.911765</td>\n",
       "    </tr>\n",
       "    <tr>\n",
       "      <th>2</th>\n",
       "      <td>국군복지단</td>\n",
       "      <td>2078.120301</td>\n",
       "    </tr>\n",
       "    <tr>\n",
       "      <th>3</th>\n",
       "      <td>참새공원(백곡경노당)</td>\n",
       "      <td>2117.631579</td>\n",
       "    </tr>\n",
       "    <tr>\n",
       "      <th>4</th>\n",
       "      <td>고덕초등학교</td>\n",
       "      <td>2281.025641</td>\n",
       "    </tr>\n",
       "    <tr>\n",
       "      <th>5</th>\n",
       "      <td>한성대7번출구 앞</td>\n",
       "      <td>2290.807175</td>\n",
       "    </tr>\n",
       "    <tr>\n",
       "      <th>6</th>\n",
       "      <td>서울보증보험본사 앞</td>\n",
       "      <td>2335.540839</td>\n",
       "    </tr>\n",
       "    <tr>\n",
       "      <th>7</th>\n",
       "      <td>신한은행 안국역지점 옆</td>\n",
       "      <td>2413.400000</td>\n",
       "    </tr>\n",
       "    <tr>\n",
       "      <th>8</th>\n",
       "      <td>녹번역 4번출구</td>\n",
       "      <td>2493.542234</td>\n",
       "    </tr>\n",
       "    <tr>\n",
       "      <th>9</th>\n",
       "      <td>신정3동 현장민원실 앞</td>\n",
       "      <td>2499.484536</td>\n",
       "    </tr>\n",
       "  </tbody>\n",
       "</table>\n",
       "</div>"
      ],
      "text/plain": [
       "          대여대여소명      이용거리(M)\n",
       "0       상암센터 정비실  1973.333333\n",
       "1       신내역 4번출구  1996.911765\n",
       "2          국군복지단  2078.120301\n",
       "3    참새공원(백곡경노당)  2117.631579\n",
       "4         고덕초등학교  2281.025641\n",
       "5      한성대7번출구 앞  2290.807175\n",
       "6     서울보증보험본사 앞  2335.540839\n",
       "7   신한은행 안국역지점 옆  2413.400000\n",
       "8       녹번역 4번출구  2493.542234\n",
       "9   신정3동 현장민원실 앞  2499.484536"
      ]
     },
     "execution_count": 56,
     "metadata": {},
     "output_type": "execute_result"
    }
   ],
   "source": [
    "df.groupby('대여대여소명')['이용거리(M)'].mean().reset_index()\\\n",
    ".sort_values(by='이용거리(M)', ascending=True).reset_index(drop=True).head(10)\n",
    "\n"
   ]
  },
  {
   "cell_type": "code",
   "execution_count": null,
   "metadata": {},
   "outputs": [],
   "source": []
  },
  {
   "cell_type": "code",
   "execution_count": null,
   "metadata": {},
   "outputs": [],
   "source": []
  }
 ],
 "metadata": {
  "kernelspec": {
   "display_name": "Python 3",
   "language": "python",
   "name": "python3"
  },
  "language_info": {
   "codemirror_mode": {
    "name": "ipython",
    "version": 3
   },
   "file_extension": ".py",
   "mimetype": "text/x-python",
   "name": "python",
   "nbconvert_exporter": "python",
   "pygments_lexer": "ipython3",
   "version": "3.6.5"
  }
 },
 "nbformat": 4,
 "nbformat_minor": 2
}
