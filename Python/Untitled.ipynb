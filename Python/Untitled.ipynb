{
 "cells": [
  {
   "cell_type": "code",
   "execution_count": 1,
   "metadata": {},
   "outputs": [],
   "source": [
    "import pandas as pd\n",
    "import numpy as np\n"
   ]
  },
  {
   "cell_type": "code",
   "execution_count": 3,
   "metadata": {},
   "outputs": [
    {
     "name": "stdout",
     "output_type": "stream",
     "text": [
      " C 드라이브의 볼륨에는 이름이 없습니다.\n",
      " 볼륨 일련 번호: 3A05-3AA6\n",
      "\n",
      " C:\\Users\\kosta\\Desktop\\새 폴더\\data_science\\data 디렉터리\n",
      "\n",
      "2018-12-20  오전 11:13    <DIR>          .\n",
      "2018-12-20  오전 11:13    <DIR>          ..\n",
      "2018-12-20  오전 11:13    <DIR>          bike\n",
      "2017-07-20  오전 06:21            12,341 data_draw_korea.csv\n",
      "2018-12-20  오전 11:13    <DIR>          seoul_bike\n",
      "               1개 파일              12,341 바이트\n",
      "               4개 디렉터리  917,469,171,712 바이트 남음\n"
     ]
    }
   ],
   "source": [
    "%ls data\n"
   ]
  },
  {
   "cell_type": "code",
   "execution_count": 4,
   "metadata": {},
   "outputs": [],
   "source": [
    "folder_path = \"data/\""
   ]
  },
  {
   "cell_type": "code",
   "execution_count": null,
   "metadata": {},
   "outputs": [],
   "source": []
  }
 ],
 "metadata": {
  "kernelspec": {
   "display_name": "Python 3",
   "language": "python",
   "name": "python3"
  },
  "language_info": {
   "codemirror_mode": {
    "name": "ipython",
    "version": 3
   },
   "file_extension": ".py",
   "mimetype": "text/x-python",
   "name": "python",
   "nbconvert_exporter": "python",
   "pygments_lexer": "ipython3",
   "version": "3.6.5"
  }
 },
 "nbformat": 4,
 "nbformat_minor": 2
}
