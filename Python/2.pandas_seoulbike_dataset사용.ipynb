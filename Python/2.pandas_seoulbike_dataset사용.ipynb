{
 "cells": [
  {
   "cell_type": "code",
   "execution_count": 1,
   "metadata": {},
   "outputs": [
    {
     "name": "stdout",
     "output_type": "stream",
     "text": [
      " C 드라이브의 볼륨에는 이름이 없습니다.\n",
      " 볼륨 일련 번호: 3A05-3AA6\n",
      "\n",
      " C:\\Users\\kosta\\Desktop\\새 폴더\\data_science 디렉터리\n",
      "\n",
      "2018-12-20  오후 02:39    <DIR>          .\n",
      "2018-12-20  오후 02:39    <DIR>          ..\n",
      "2018-12-20  오후 02:39    <DIR>          .ipynb_checkpoints\n",
      "2018-12-20  오후 02:33           254,055 1.pandas_basic_koreadraw+data사용.ipynb\n",
      "2018-12-20  오후 02:39               555 2.pandas_seoulbike_dataset사용.ipynb\n",
      "2018-12-20  오전 11:20            19,129 concat-and-preprocessing.ipynb\n",
      "2018-12-20  오후 01:29    <DIR>          data\n",
      "2018-12-10  오후 02:53           527,146 korea_draw.html\n",
      "2018-12-20  오전 11:22            74,602 stations-API.ipynb\n",
      "2018-12-20  오전 11:26             1,768 Untitled.ipynb\n",
      "2018-12-20  오후 02:39               555 Untitled1.ipynb\n",
      "               7개 파일             877,810 바이트\n",
      "               4개 디렉터리  916,850,257,920 바이트 남음\n"
     ]
    }
   ],
   "source": []
  }
 ],
 "metadata": {
  "kernelspec": {
   "display_name": "Python 3",
   "language": "python",
   "name": "python3"
  },
  "language_info": {
   "codemirror_mode": {
    "name": "ipython",
    "version": 3
   },
   "file_extension": ".py",
   "mimetype": "text/x-python",
   "name": "python",
   "nbconvert_exporter": "python",
   "pygments_lexer": "ipython3",
   "version": "3.6.5"
  }
 },
 "nbformat": 4,
 "nbformat_minor": 2
}
